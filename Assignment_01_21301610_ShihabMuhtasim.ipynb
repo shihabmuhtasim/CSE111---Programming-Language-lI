{
 "cells": [
  {
   "cell_type": "markdown",
   "id": "b43b70ea",
   "metadata": {},
   "source": [
    "Name: Shihab Muhtasim\n",
    "\n",
    "ID:21301610\n",
    "\n",
    "Sec: 10\n",
    "\n",
    "CSE111"
   ]
  },
  {
   "cell_type": "code",
   "execution_count": 3,
   "id": "e67d3f30",
   "metadata": {},
   "outputs": [
    {
     "name": "stdout",
     "output_type": "stream",
     "text": [
      "Please enter a string: HOusE\n",
      "HOUSE\n"
     ]
    }
   ],
   "source": [
    "#string1\n",
    "given_string=input(\"Please enter a string: \")\n",
    "upp=[]\n",
    "low=[]\n",
    "for letter in given_string:\n",
    "    if ord(\"A\")<=ord(letter)<=ord(\"Z\"):\n",
    "        upp.append(letter) \n",
    "    elif ord(\"a\")<=ord(letter)<=ord(\"z\"):\n",
    "        low.append(letter)\n",
    "final=\"\"\n",
    "if len(upp)<=len(low):\n",
    "    for letter in given_string:\n",
    "        if ord(\"a\")<=ord(letter)<=ord(\"z\"):\n",
    "            final+=letter\n",
    "        else:\n",
    "            lower=chr(ord(letter)+32)\n",
    "            final+=lower\n",
    "else:\n",
    "    for letter in given_string:\n",
    "        if ord(\"a\")<=ord(letter)<=ord(\"z\"):\n",
    "            upper=chr(ord(letter)-32)\n",
    "            final+=upper\n",
    "        else:\n",
    "            final+=letter\n",
    "print(final)"
   ]
  },
  {
   "cell_type": "code",
   "execution_count": 5,
   "id": "4538fb21",
   "metadata": {},
   "outputs": [
    {
     "name": "stdout",
     "output_type": "stream",
     "text": [
      "Please enter a string: jhg231j213\n",
      "MIXED\n"
     ]
    }
   ],
   "source": [
    "#string2\n",
    "given_string=input(\"Please enter a string: \")\n",
    "flag=True\n",
    "num=0\n",
    "word=0\n",
    "for val in given_string:\n",
    "    if ord(\"0\")<=ord(val)<=ord(\"9\"):\n",
    "        num+=1\n",
    "    elif ord(\"a\")<=ord(val)<=ord(\"z\") or ord(\"A\")<=ord(val)<=ord(\"Z\"):\n",
    "        word+=1\n",
    "    else:\n",
    "        pass\n",
    "if num==len(given_string):\n",
    "    print(\"NUMBER\")\n",
    "elif word==len(given_string):\n",
    "    print(\"WORD\")\n",
    "else:\n",
    "    print(\"MIXED\")"
   ]
  },
  {
   "cell_type": "code",
   "execution_count": 8,
   "id": "0ac8ac4f",
   "metadata": {},
   "outputs": [
    {
     "name": "stdout",
     "output_type": "stream",
     "text": [
      "Please enter a string: baNgladEsh\n",
      "glad"
     ]
    }
   ],
   "source": [
    "#string3\n",
    "given=input(\"Please enter a string: \")\n",
    "new=\"\"\n",
    "start=None\n",
    "end=None\n",
    "for index in range(len(given)):\n",
    "    if start==None:\n",
    "        if ord(\"A\")<=ord(given[index])<=ord(\"Z\"):\n",
    "            start=index\n",
    "    else:\n",
    "        if ord(\"A\")<=ord(given[index])<=ord(\"Z\"):\n",
    "            end=index\n",
    "if end-start==1:\n",
    "    print(\"BLANK\")\n",
    "else:\n",
    "    for index in range(start+1,end):\n",
    "        print(given[index],end=\"\")"
   ]
  },
  {
   "cell_type": "code",
   "execution_count": 11,
   "id": "45896f3a",
   "metadata": {},
   "outputs": [
    {
     "name": "stdout",
     "output_type": "stream",
     "text": [
      "Please enter a string: The book is not too good!\n",
      "The book is not excelent!\n"
     ]
    }
   ],
   "source": [
    "#string4\n",
    "given=input(\"Please enter a string: \")\n",
    "new=given.replace(\"too good\",\"excelent\",1)\n",
    "print(new)"
   ]
  },
  {
   "cell_type": "code",
   "execution_count": 13,
   "id": "302b7cf7",
   "metadata": {},
   "outputs": [
    {
     "name": "stdout",
     "output_type": "stream",
     "text": [
      "Please enter the first string: harry\n",
      "Please enter the second string: hermione\n",
      "hrrhr\n"
     ]
    }
   ],
   "source": [
    "#string5\n",
    "string_1=input(\"Please enter the first string: \")\n",
    "string_2=input(\"Please enter the second string: \")\n",
    "new=\"\"\n",
    "for letter in string_1:\n",
    "    if letter in string_2:\n",
    "        new+=letter\n",
    "for letter in string_2:\n",
    "    if letter in string_1:\n",
    "        new+=letter\n",
    "if new==\"\":\n",
    "    print(\"Nothing in common.\")\n",
    "else:\n",
    "    print(new)"
   ]
  },
  {
   "cell_type": "code",
   "execution_count": 15,
   "id": "10e80c64",
   "metadata": {},
   "outputs": [
    {
     "name": "stdout",
     "output_type": "stream",
     "text": [
      "Please enter your password: ohMyBR@CU20\n",
      "OK\n"
     ]
    }
   ],
   "source": [
    "#string6\n",
    "password=input(\"Please enter your password: \")\n",
    "upp_count=0\n",
    "low_count=0\n",
    "dig_count=0\n",
    "special_count=0\n",
    "string=\"\"\n",
    "for character in password:\n",
    "    if ord(\"A\")<=ord(character)<=ord(\"Z\"):\n",
    "        upp_count+=1\n",
    "    elif ord(\"a\")<=ord(character)<=ord(\"z\"):\n",
    "        low_count+=1\n",
    "    elif ord(\"0\")<=ord(character)<=ord(\"9\"):\n",
    "        dig_count+=1\n",
    "    elif ord(character)==ord(\"_\") or ord(character)==ord('$') or ord(character)==ord(\"#\") or ord(character)==ord(\"@\"):\n",
    "        special_count+=1\n",
    "if upp_count>0 and low_count>0 and dig_count>0 and special_count>0:\n",
    "    print(\"OK\")\n",
    "else:\n",
    "    if upp_count==0:\n",
    "        string+=\"Uppercase character missing, \"\n",
    "    if low_count==0:\n",
    "        string+=\"Lowercase character missing, \"\n",
    "    if dig_count==0:\n",
    "        string+=\"Digit missing, \"\n",
    "    if special_count==0:\n",
    "        string+=\"Special character missing, \"\n",
    "    print(string.rstrip(\", \"))"
   ]
  },
  {
   "cell_type": "code",
   "execution_count": 16,
   "id": "0ade8372",
   "metadata": {},
   "outputs": [
    {
     "name": "stdout",
     "output_type": "stream",
     "text": [
      "Please enter a number: 10\n",
      "Please enter a number: 20\n",
      "Please enter a number: 20\n",
      "Please enter a number: 30\n",
      "Please enter a number: 10\n",
      "Please enter a number: 50\n",
      "Please enter a number: 90\n",
      "Please enter a number: STOP\n",
      "10 - 2 times\n",
      "20 - 2 times\n",
      "30 - 1 times\n",
      "50 - 1 times\n",
      "90 - 1 times\n"
     ]
    }
   ],
   "source": [
    "#list 1\n",
    "list_1=[]\n",
    "while True :\n",
    "    num=input(\"Please enter a number: \")\n",
    "    if num!='STOP':\n",
    "        list_1.append(num)\n",
    "    else:\n",
    "        break                        \n",
    "new_list=[]\n",
    "for num in list_1:\n",
    "    if num not in new_list:\n",
    "        new_list.append(num)\n",
    "for val in new_list:\n",
    "    count=0\n",
    "    for num in list_1:\n",
    "        if val==num:\n",
    "            count+=1\n",
    "    print(val,\"-\",count,\"times\")                      "
   ]
  },
  {
   "cell_type": "code",
   "execution_count": 17,
   "id": "b6cda517",
   "metadata": {},
   "outputs": [
    {
     "name": "stdout",
     "output_type": "stream",
     "text": [
      "Enter number of lists, N: 4\n",
      "Enter numbers seperated by space: 1 2 3\n",
      "Enter numbers seperated by space: 4 5 6\n",
      "Enter numbers seperated by space: 10 11 12\n",
      "Enter numbers seperated by space: 7 8 9\n",
      "33\n",
      "[10, 11, 12]\n"
     ]
    }
   ],
   "source": [
    "#list 2\n",
    "value=int(input(\"Enter number of lists, N: \"))\n",
    "full_list=[]\n",
    "maximum=0\n",
    "max_index=0\n",
    "for iteration in range(value):\n",
    "    list_taken=input(\"Enter numbers seperated by space: \").split(\" \")\n",
    "    count=0\n",
    "    for index in range(len(list_taken)):\n",
    "        list_taken[index]=int(list_taken[index])\n",
    "        count+=list_taken[index]\n",
    "    if count>maximum:\n",
    "        maximum=count\n",
    "        max_index=iteration\n",
    "    full_list.append(list_taken)\n",
    "print(maximum)\n",
    "print(full_list[max_index])"
   ]
  },
  {
   "cell_type": "code",
   "execution_count": 18,
   "id": "a93b1163",
   "metadata": {},
   "outputs": [
    {
     "name": "stdout",
     "output_type": "stream",
     "text": [
      "Enter numbers of first list seperated by space: 2 3 6\n",
      "Enter numbers of second list seperated by space: 3 4 5\n",
      "[6, 8, 10, 9, 12, 15, 18, 24, 30]\n"
     ]
    }
   ],
   "source": [
    "#list 3\n",
    "list_1=[int(number) for number in input(\"Enter numbers of first list seperated by space: \").split(\" \")]\n",
    "list_2=[int(number) for number in input(\"Enter numbers of second list seperated by space: \").split(\" \")]\n",
    "final=[]\n",
    "for num in list_1:\n",
    "    for val in list_2:\n",
    "        multi=num*val\n",
    "        final.append(multi)\n",
    "print(final)"
   ]
  },
  {
   "cell_type": "code",
   "execution_count": 20,
   "id": "5ebe5815",
   "metadata": {},
   "outputs": [
    {
     "name": "stdout",
     "output_type": "stream",
     "text": [
      "Enter numbers of list seperated by space: 1 2 3 4\n",
      "UB Jumper\n",
      "Enter numbers of list seperated by space: 2 1 4 6 10\n",
      "UB Jumper\n",
      "Enter numbers of list seperated by space: 1 4 2 -16\n",
      "Not UB Jumper\n",
      "Enter numbers of list seperated by space: STOP\n"
     ]
    }
   ],
   "source": [
    "#list 4\n",
    "while True :\n",
    "    list_giv=input(\"Enter numbers of list seperated by space: \").split(\" \")\n",
    "    if list_giv[0]!='STOP':\n",
    "        pass\n",
    "    else:\n",
    "        break\n",
    "    flag=True\n",
    "    for i in range(len(list_giv)-1):\n",
    "        temp=abs(int(list_giv[i])-int(list_giv[i+1]))\n",
    "        check=len(list_giv)-1\n",
    "        if 1<=temp<=check:\n",
    "            flag=True\n",
    "        else:\n",
    "            flag= False\n",
    "            break\n",
    "    if flag==True:\n",
    "        print(\"UB Jumper\")\n",
    "    else:\n",
    "        print(\"Not UB Jumper\")            "
   ]
  },
  {
   "cell_type": "code",
   "execution_count": 21,
   "id": "eefa8503",
   "metadata": {},
   "outputs": [
    {
     "name": "stdout",
     "output_type": "stream",
     "text": [
      "Enter a string: Bracu1234\n",
      "acruB1324"
     ]
    }
   ],
   "source": [
    "#list 5\n",
    "given=input(\"Enter a string: \")\n",
    "low=[]\n",
    "upp=[]\n",
    "dig=[]\n",
    "for char in given:\n",
    "    if ord(\"a\")<=ord(char)<=ord(\"z\"):\n",
    "        low.append(char)\n",
    "    elif ord(\"A\")<=ord(char)<=ord(\"Z\"):\n",
    "        upp.append(char)\n",
    "    elif ord(\"0\")<=ord(char)<=ord(\"9\"):\n",
    "        dig.append(char)\n",
    "low.sort()\n",
    "upp.sort()\n",
    "dig.sort()\n",
    "odd=[]\n",
    "even=[]\n",
    "for num in dig:\n",
    "    if int(num)%2==0:\n",
    "        even.append(num)\n",
    "    else:\n",
    "        odd.append(num)\n",
    "final_dig=[]\n",
    "for num in odd:\n",
    "    final_dig.append(num)\n",
    "for num in even:\n",
    "    final_dig.append(num)\n",
    "full=[]\n",
    "full.append(low)\n",
    "full.append(upp)\n",
    "full.append(final_dig)\n",
    "for li in full:\n",
    "    for elem in li:\n",
    "        print(elem,end=\"\")"
   ]
  },
  {
   "cell_type": "code",
   "execution_count": 27,
   "id": "38308127",
   "metadata": {},
   "outputs": [
    {
     "name": "stdout",
     "output_type": "stream",
     "text": [
      "Enter the values of participants, n and least participation, k seperated by space: 5 2\n",
      "Enter the number of times of participations: 0 4 5 1 0\n",
      "1\n"
     ]
    }
   ],
   "source": [
    "#list 6\n",
    "value_list=[int(value) for value in input(\"Enter the values of participants, n and least participation, k seperated by space: \").split()]\n",
    "participations_list=[int(num) for num in input(\"Enter the number of times of participations: \").split()]\n",
    "\n",
    "person=value_list[0]\n",
    "contest=value_list[1]\n",
    "count = 0\n",
    "for num in participations_list:\n",
    "    if (5-num)>=contest:\n",
    "        count+=1\n",
    "    else:\n",
    "        pass\n",
    "print(count//3)"
   ]
  },
  {
   "cell_type": "code",
   "execution_count": 29,
   "id": "7e99b95d",
   "metadata": {},
   "outputs": [
    {
     "name": "stdout",
     "output_type": "stream",
     "text": [
      "Enter length of your first dictionary: 4\n",
      "Enter key: a\n",
      "Enter value: 100\n",
      "Enter key: b\n",
      "Enter value: 100\n",
      "Enter key: c\n",
      "Enter value: 200\n",
      "Enter key: d\n",
      "Enter value: 300\n",
      "Enter length of your second dictionary: 4\n",
      "Enter key: a\n",
      "Enter value: 300\n",
      "Enter key: b\n",
      "Enter value: 200\n",
      "Enter key: d\n",
      "Enter value: 400\n",
      "Enter key: e\n",
      "Enter value: 200\n",
      "{'a': 400, 'b': 300, 'c': 200, 'd': 700, 'e': 200}\n",
      "Values: (200, 300, 400, 700)\n"
     ]
    }
   ],
   "source": [
    "#dictionary 1\n",
    "dic_1={}\n",
    "length=int(input(\"Enter length of your first dictionary: \"))\n",
    "for iteration in range(length):\n",
    "    key=input(\"Enter key: \")\n",
    "    val=int(input(\"Enter value: \"))\n",
    "    dic_1[key]=val\n",
    "dic_2={}\n",
    "length=int(input(\"Enter length of your second dictionary: \"))\n",
    "for iteration in range(length):\n",
    "    key=input(\"Enter key: \")\n",
    "    val=int(input(\"Enter value: \"))\n",
    "    dic_2[key]=val\n",
    "new={}\n",
    "for key,val in dic_1.items():\n",
    "    if key not in new:\n",
    "        new[key]=val\n",
    "    else:\n",
    "        new[key]+=val\n",
    "for key,val in dic_2.items():\n",
    "    if key not in new:\n",
    "        new[key]=val\n",
    "    else:\n",
    "        new[key]+=val        \n",
    "temp_list=[]\n",
    "for val in new.values():\n",
    "    temp_list.append(val)\n",
    "temp_list.sort() \n",
    "final_list=[]\n",
    "for num in temp_list:\n",
    "    if num not in final_list:\n",
    "        final_list.append(num)\n",
    "    else:\n",
    "        pass\n",
    "final_tup=tuple(final_list)\n",
    "print(new)\n",
    "print(\"Values:\",final_tup)"
   ]
  },
  {
   "cell_type": "code",
   "execution_count": 30,
   "id": "a8324043",
   "metadata": {},
   "outputs": [
    {
     "name": "stdout",
     "output_type": "stream",
     "text": [
      "Please enter a number10\n",
      "Please enter a number10\n",
      "Please enter a number20\n",
      "Please enter a number20\n",
      "Please enter a number30\n",
      "Please enter a number50\n",
      "Please enter a number90\n",
      "Please enter a numberSTOP\n",
      "10 - 2 times\n",
      "20 - 2 times\n",
      "30 - 1 times\n",
      "50 - 1 times\n",
      "90 - 1 times\n"
     ]
    }
   ],
   "source": [
    "#dict 2\n",
    "dict_1={}\n",
    "while True :\n",
    "    num=input(\"Please enter a number\")\n",
    "    if num!='STOP':\n",
    "        if num not in dict_1:\n",
    "            dict_1[num]=1\n",
    "        else:\n",
    "            dict_1[num]+=1\n",
    "    else:\n",
    "        break                        \n",
    "for key,val in dict_1.items():\n",
    "    print(key,\"-\",val,\"times\")"
   ]
  },
  {
   "cell_type": "code",
   "execution_count": 12,
   "id": "355906f8",
   "metadata": {},
   "outputs": [
    {
     "name": "stdout",
     "output_type": "stream",
     "text": [
      "Enter length of your dictionary: 3\n",
      "Enter key: key_1\n",
      "Enter value: value_1\n",
      "Enter key: key_2\n",
      "Enter value: value_2\n",
      "Enter key: key_3\n",
      "Enter value: value_1\n",
      "{'value_1': ['key_1', 'key_3'], 'value_2': ['key_2']}\n"
     ]
    }
   ],
   "source": [
    "#dict 3\n",
    "dict_given={}\n",
    "length=int(input(\"Enter length of your dictionary: \"))\n",
    "for iteration in range(length):\n",
    "    key=input(\"Enter key: \")\n",
    "    val=input(\"Enter value: \")\n",
    "    dict_given[key]=val\n",
    "new={}\n",
    "for key,val in dict_given.items():\n",
    "    if val not in new.keys():\n",
    "        new[val]=[key]\n",
    "    else:\n",
    "        new[val].append(key)\n",
    "print(new)"
   ]
  },
  {
   "cell_type": "code",
   "execution_count": 36,
   "id": "0fb8b113",
   "metadata": {},
   "outputs": [
    {
     "name": "stdout",
     "output_type": "stream",
     "text": [
      "Enter first word: apple\n",
      "Enter second word: elppa\n",
      "Those strings are anagrams.\n"
     ]
    }
   ],
   "source": [
    "#dict 4\n",
    "word_1=input(\"Enter first word: \")\n",
    "word_2=input(\"Enter second word: \")\n",
    "dict_1={}\n",
    "dict_2={}\n",
    "for char in word_1:\n",
    "    if char not in dict_1:\n",
    "        dict_1[char]=1\n",
    "    else:\n",
    "        dict_1[char]+=1\n",
    "for char in word_2:\n",
    "    if char not in dict_2:\n",
    "        dict_2[char]=1\n",
    "    else:\n",
    "        dict_2[char]+=1\n",
    "\n",
    "if dict_1==dict_2 and word_1!=word_2:\n",
    "        print(\"Those strings are anagrams.\")\n",
    "else:\n",
    "    print(\"Those strings are not anagrams.\") "
   ]
  },
  {
   "cell_type": "code",
   "execution_count": 31,
   "id": "464aa3c7",
   "metadata": {},
   "outputs": [
    {
     "name": "stdout",
     "output_type": "stream",
     "text": [
      "Enter test message:Hello World\n",
      "4433555555666096667775553\n"
     ]
    }
   ],
   "source": [
    "#dict 5\n",
    "keypad={'1':'.,?!:','2':'ABC','3':'DEF','4':'GHI','5':'JKL','6':'MNO','7':'PQRS','8':'TUV','9':'WXYZ','0':' '}\n",
    "text_input=input(\"Enter test message:\")\n",
    "message=text_input.upper()\n",
    "new=\"\"\n",
    "for char in message:\n",
    "    for key,val in keypad.items():\n",
    "        if char in val:\n",
    "            for index in range(len(val)):\n",
    "                if char==val[index]:\n",
    "                    for iteration in range(index+1):\n",
    "                        new+=key\n",
    "print(new)"
   ]
  }
 ],
 "metadata": {
  "kernelspec": {
   "display_name": "Python 3",
   "language": "python",
   "name": "python3"
  },
  "language_info": {
   "codemirror_mode": {
    "name": "ipython",
    "version": 3
   },
   "file_extension": ".py",
   "mimetype": "text/x-python",
   "name": "python",
   "nbconvert_exporter": "python",
   "pygments_lexer": "ipython3",
   "version": "3.8.8"
  }
 },
 "nbformat": 4,
 "nbformat_minor": 5
}
