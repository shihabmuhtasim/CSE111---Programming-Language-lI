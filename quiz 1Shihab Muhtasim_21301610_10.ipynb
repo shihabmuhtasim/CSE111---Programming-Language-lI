{
 "cells": [
  {
   "cell_type": "markdown",
   "id": "5faad8b1",
   "metadata": {},
   "source": [
    "Name: Shihab Muhtasim\n",
    "\n",
    "ID:21301610\n",
    "\n",
    "Sec:10\n",
    "\n",
    "Quiz 1\n",
    "\n",
    "CSE11"
   ]
  },
  {
   "cell_type": "code",
   "execution_count": 39,
   "id": "59608eef",
   "metadata": {},
   "outputs": [
    {
     "name": "stdout",
     "output_type": "stream",
     "text": [
      "{'Forward': {'Aurgentina': ('Firmino', 'Messi', 'Klose'), 'Germany': ('Gabriel', 'Aguero', 'Werner')}, 'Midfielder': {}}\n"
     ]
    }
   ],
   "source": [
    "my_tuple = ((\"Firmino\", 1101),(\"Gabriel\", 1201),(\"Casemiro\", 1302),(\"Fred\", \n",
    "1402),(\"Messi\", 1111),(\"Aguero\", 1211),(\"Klose\", 1121), (\"Werner\", 1221), \n",
    "(\"Toni\", 1322))\n",
    "final={}\n",
    "temp_forward={}\n",
    "temp_mid={}\n",
    "for tup in my_tuple:\n",
    "    first=tup[1]%10\n",
    "    temp_3=tup[1]%1000\n",
    "    third=temp_3//100\n",
    "    if first==1:\n",
    "        if third==0:\n",
    "            if \"Brazil\" in temp_forward:\n",
    "                temp_forward[\"Brazil\"].append(tup[0])\n",
    "            else:\n",
    "                temp_forward[\"Brazil\"]=[tup[0]] \n",
    "        elif third==1:\n",
    "            if \"Aurgentina\" in temp_forward:\n",
    "                temp_forward[\"Aurgentina\"].append(tup[0])\n",
    "            else:\n",
    "                temp_forward[\"Aurgentina\"]=[tup[0]]\n",
    "        elif third==2:\n",
    "            if \"Germany\" not in temp_forward:\n",
    "                temp_forward[\"Germany\"]=[tup[0]]\n",
    "            else:\n",
    "                temp_forward[\"Germany\"].append(tup[0])\n",
    "    elif first==2:\n",
    "        if third==0:\n",
    "            if \"Brazil\" in temp_mid:\n",
    "                temp_mid[\"Brazil\"].append(tup[0])\n",
    "            else:\n",
    "                temp_mid[\"Brazil\"]=[tup[0]] \n",
    "        elif third==1:\n",
    "            if \"Aurgentina\" in temp_mid:\n",
    "                temp_mid[\"Aurgentina\"].append(tup[0])\n",
    "            else:\n",
    "                temp_mid[\"Aurgentina\"]=[tup[0]]\n",
    "        elif third==2:\n",
    "            if \"Germany\" not in temp_mid:\n",
    "                temp_mid[\"Germany\"]=[tup[0]]\n",
    "            else:\n",
    "                temp_mid[\"Germany\"].append(tup[0])\n",
    "for key,val in temp_forward.items():\n",
    "    temp_forward[key]=tuple(val)\n",
    "for key,val in temp_mid.items():\n",
    "    temp_forward[key]=tuple(val)\n",
    "final['Forward']=temp_forward\n",
    "final['Midfielder']=temp_mid\n",
    "print(final)"
   ]
  },
  {
   "cell_type": "code",
   "execution_count": 40,
   "id": "1709dbdf",
   "metadata": {},
   "outputs": [
    {
     "name": "stdout",
     "output_type": "stream",
     "text": [
      "{'Forward': {'Brazil': ('Casemiro', 'Fred'), 'Aurgentina': ('Messi', 'Aguero'), 'Germany': ('Toni',)}, 'Midfielder': {'Brazil': ['Casemiro', 'Fred'], 'Germany': ['Toni']}}\n"
     ]
    }
   ],
   "source": [
    "my_tuple = ((\"Firmino\", 1101),(\"Gabriel\", 1201),(\"Casemiro\", 1302),(\"Fred\", \n",
    "1402),(\"Messi\", 1111),(\"Aguero\", 1211),(\"Klose\", 1121), (\"Werner\", 1221), \n",
    "(\"Toni\", 1322))\n",
    "final={}\n",
    "temp_forward={}\n",
    "temp_mid={}\n",
    "for tup in my_tuple:\n",
    "    first=tup[1]%10\n",
    "    temp_3=tup[1]%100\n",
    "    third=temp_3//10\n",
    "    if first==1:\n",
    "        if third==0:\n",
    "            if \"Brazil\" in temp_forward:\n",
    "                temp_forward[\"Brazil\"].append(tup[0])\n",
    "            else:\n",
    "                temp_forward[\"Brazil\"]=[tup[0]] \n",
    "        elif third==1:\n",
    "            if \"Aurgentina\" in temp_forward:\n",
    "                temp_forward[\"Aurgentina\"].append(tup[0])\n",
    "            else:\n",
    "                temp_forward[\"Aurgentina\"]=[tup[0]]\n",
    "        elif third==2:\n",
    "            if \"Germany\" not in temp_forward:\n",
    "                temp_forward[\"Germany\"]=[tup[0]]\n",
    "            else:\n",
    "                temp_forward[\"Germany\"].append(tup[0])\n",
    "    elif first==2:\n",
    "        if third==0:\n",
    "            if \"Brazil\" in temp_mid:\n",
    "                temp_mid[\"Brazil\"].append(tup[0])\n",
    "            else:\n",
    "                temp_mid[\"Brazil\"]=[tup[0]] \n",
    "        elif third==1:\n",
    "            if \"Aurgentina\" in temp_mid:\n",
    "                temp_mid[\"Aurgentina\"].append(tup[0])\n",
    "            else:\n",
    "                temp_mid[\"Aurgentina\"]=[tup[0]]\n",
    "        elif third==2:\n",
    "            if \"Germany\" not in temp_mid:\n",
    "                temp_mid[\"Germany\"]=[tup[0]]\n",
    "            else:\n",
    "                temp_mid[\"Germany\"].append(tup[0])\n",
    "for key,val in temp_forward.items():\n",
    "    temp_forward[key]=tuple(val)\n",
    "for key,val in temp_mid.items():\n",
    "    temp_forward[key]=tuple(val)\n",
    "final['Forward']=temp_forward\n",
    "final['Midfielder']=temp_mid\n",
    "print(final)"
   ]
  }
 ],
 "metadata": {
  "kernelspec": {
   "display_name": "Python 3",
   "language": "python",
   "name": "python3"
  },
  "language_info": {
   "codemirror_mode": {
    "name": "ipython",
    "version": 3
   },
   "file_extension": ".py",
   "mimetype": "text/x-python",
   "name": "python",
   "nbconvert_exporter": "python",
   "pygments_lexer": "ipython3",
   "version": "3.8.8"
  }
 },
 "nbformat": 4,
 "nbformat_minor": 5
}
