{
 "cells": [
  {
   "cell_type": "markdown",
   "id": "3de4e10b",
   "metadata": {},
   "source": [
    "**CSE111 LAB ASSIGNMENT 3**\n",
    "\n",
    "**Name:** Shihab Muhtasim\n",
    "\n",
    "**ID:** 21301610\n",
    "\n",
    "**SEC:** 10"
   ]
  },
  {
   "cell_type": "code",
   "execution_count": 2,
   "id": "88d925c0",
   "metadata": {},
   "outputs": [
    {
     "name": "stdout",
     "output_type": "stream",
     "text": [
      "Integer\n",
      "1234\n",
      "=====================\n",
      "String\n",
      "Hello\n",
      "=====================\n",
      "Float\n",
      "4.0\n"
     ]
    }
   ],
   "source": [
    "#1\n",
    "class DataType:\n",
    "    def __init__ (self,name,value):\n",
    "        self.name=name\n",
    "        self.value=value\n",
    "\n",
    "data_type1 = DataType('Integer', 1234)\n",
    "print(data_type1.name)\n",
    "print(data_type1.value)\n",
    "print('=====================')\n",
    "data_type2 = DataType('String', 'Hello')\n",
    "print(data_type2.name)\n",
    "print(data_type2.value)\n",
    "print('=====================')\n",
    "data_type3 = DataType('Float', 4.0)\n",
    "print(data_type3.name)\n",
    "print(data_type3.value)"
   ]
  },
  {
   "cell_type": "code",
   "execution_count": 4,
   "id": "5e503753",
   "metadata": {},
   "outputs": [
    {
     "name": "stdout",
     "output_type": "stream",
     "text": [
      "Name of this flower: Rose\n",
      "Color of this flower: Red\n",
      "Number of petal: 6\n",
      "=====================\n",
      "Name of this flower: Orchid\n",
      "Color of this flower: Purple\n",
      "Number of petal: 4\n",
      "<__main__.Flower object at 0x000002351C2191C0>\n",
      "<__main__.Flower object at 0x000002351C219790>\n",
      "They are different\n"
     ]
    }
   ],
   "source": [
    "#2\n",
    "class Flower:\n",
    "    pass\n",
    "flower1 = Flower()\n",
    "flower1.name=\"Rose\"\n",
    "flower1.color=\"Red\"\n",
    "flower1.num_of_petal=6\n",
    "print(\"Name of this flower:\", flower1.name)\n",
    "print(\"Color of this flower:\",flower1.color)\n",
    "print(\"Number of petal:\",flower1.num_of_petal)\n",
    "print('=====================')\n",
    "flower2 = Flower()\n",
    "flower2.name=\"Orchid\"\n",
    "flower2.color=\"Purple\"\n",
    "flower2.num_of_petal=4\n",
    "print(\"Name of this flower:\",flower2.name)\n",
    "print(\"Color of this flower:\",flower2.color)\n",
    "print (\"Number of petal:\",flower2. num_of_petal)\n",
    "print(flower1)\n",
    "print(flower2)\n",
    "print(\"They are different\")"
   ]
  },
  {
   "cell_type": "code",
   "execution_count": 22,
   "id": "bf28a533",
   "metadata": {},
   "outputs": [
    {
     "name": "stdout",
     "output_type": "stream",
     "text": [
      "Part 1:\n",
      "Name of President: Aladeen\n",
      "Designation: President Prime Minister Admiral General\n",
      "Number of wife: 100\n",
      "Is he/she a dictator: True\n",
      "Part 2:\n",
      "Name of President: Donald Trump\n",
      "Designation: President\n",
      "Number of wife: 1\n",
      "Is he/she a dictator: False\n",
      "previous information lost\n"
     ]
    }
   ],
   "source": [
    "#3\n",
    "class Wadiya():\n",
    "    def __init__(self):\n",
    "        self.name = 'Aladeen'\n",
    "        self.designation = 'President Prime Minister Admiral General'\n",
    "        self.num_of_wife = 100\n",
    "        self.dictator = True\n",
    "print(\"Part 1:\")\n",
    "wadiya= Wadiya()\n",
    "print('Name of President:', wadiya.name)\n",
    "print('Designation:', wadiya.designation)\n",
    "print('Number of wife:', wadiya.num_of_wife)\n",
    "print('Is he/she a dictator:', wadiya.dictator)\n",
    "wadiya.name= 'Donald Trump'\n",
    "wadiya.designation= 'President'\n",
    "wadiya.num_of_wife= 1\n",
    "wadiya.dictator= False\n",
    "print(\"Part 2:\")\n",
    "print('Name of President:', wadiya.name)\n",
    "print('Designation:', wadiya.designation)\n",
    "print('Number of wife:', wadiya.num_of_wife)\n",
    "print('Is he/she a dictator:', wadiya.dictator)\n",
    "print('previous information lost')"
   ]
  },
  {
   "cell_type": "code",
   "execution_count": 1,
   "id": "677e52ca",
   "metadata": {},
   "outputs": [
    {
     "name": "stdout",
     "output_type": "stream",
     "text": [
      "Heath Ledger\n",
      "Mind Game\n",
      "False\n",
      "=====================\n",
      "Joaquin Phoenix\n",
      "Laughing out Loud\n",
      "True\n",
      "=====================\n",
      "different\n",
      "same\n",
      "First if/else block prints the output as different because their memory location is not the same.\n",
      "second if/else block prints the output as same because the name variable of object j2 is changed into the name variable of j1.\n"
     ]
    }
   ],
   "source": [
    "#4\n",
    "class Joker:\n",
    "    def __init__(self,name,power,is_he_psycho):\n",
    "        self.name= name\n",
    "        self.power= power\n",
    "        self.is_he_psycho= is_he_psycho\n",
    "\n",
    "j1 = Joker('Heath Ledger', 'Mind Game', False)\n",
    "print(j1.name)\n",
    "print(j1.power)\n",
    "print(j1.is_he_psycho)\n",
    "print('=====================')\n",
    "j2 = Joker('Joaquin Phoenix', 'Laughing out Loud', True)\n",
    "print(j2.name)\n",
    "print(j2.power)\n",
    "print(j2.is_he_psycho)\n",
    "print('=====================')\n",
    "if j1 == j2:\n",
    "    print('same')\n",
    "else:\n",
    "    print('different')\n",
    "j2.name = 'Heath Ledger'\n",
    "if j1.name == j2.name:\n",
    "    print('same')\n",
    "else:\n",
    "    print('different')\n",
    "print(\"First if/else block prints the output as different because their memory location is not the same.\")\n",
    "print(\"second if/else block prints the output as same because the name variable of object j2 is changed into the name variable of j1.\")"
   ]
  },
  {
   "cell_type": "code",
   "execution_count": 33,
   "id": "571eae40",
   "metadata": {},
   "outputs": [
    {
     "name": "stdout",
     "output_type": "stream",
     "text": [
      "=======Team 1=======\n",
      "Pokemon 1: pikachu 90\n",
      "Pokemon 2: charmander 60\n",
      "Combined Power: 1500\n",
      "=======Team 2=======\n",
      "Pokemon 1: bulbasaur 80\n",
      "Pokemon 2: squirtle 70\n",
      "Combined Power: 1350\n"
     ]
    }
   ],
   "source": [
    "#5\n",
    "class Pokemon:\n",
    "    def __init__(self,pokemon1_name,pokemon2_name,pokemon1_power,pokemon2_power,damage_rate):\n",
    "        self.pokemon1_name=pokemon1_name\n",
    "        self.pokemon2_name=pokemon2_name\n",
    "        self.pokemon1_power=pokemon1_power\n",
    "        self.pokemon2_power=pokemon2_power\n",
    "        self.damage_rate=damage_rate\n",
    "team_pika = Pokemon('pikachu', 'charmander', 90, 60, 10)\n",
    "print('=======Team 1=======')\n",
    "print('Pokemon 1:',team_pika.pokemon1_name,\n",
    "team_pika.pokemon1_power)\n",
    "print('Pokemon 2:',team_pika.pokemon2_name,\n",
    "team_pika.pokemon2_power)\n",
    "pika_combined_power = (team_pika.pokemon1_power +\n",
    "team_pika.pokemon2_power) * team_pika.damage_rate\n",
    "print('Combined Power:', pika_combined_power)\n",
    "team_bulb= Pokemon('bulbasaur','squirtle', 80, 70,9)\n",
    "print('=======Team 2=======')\n",
    "print('Pokemon 1:',team_bulb.pokemon1_name,\n",
    "team_bulb.pokemon1_power)\n",
    "print('Pokemon 2:',team_bulb.pokemon2_name,\n",
    "team_bulb.pokemon2_power)\n",
    "bulb_combined_power = (team_bulb.pokemon1_power +\n",
    "team_bulb.pokemon2_power) * team_bulb.damage_rate\n",
    "print('Combined Power:', bulb_combined_power)"
   ]
  },
  {
   "cell_type": "code",
   "execution_count": 35,
   "id": "d98cdf0b",
   "metadata": {},
   "outputs": [
    {
     "name": "stdout",
     "output_type": "stream",
     "text": [
      "Name of the Player: Ronaldo\n",
      "Jersey Number of player: 9\n",
      "Position of player: Striker\n",
      "===========================\n",
      "Name of the player: Neuer\n",
      "Jersey Number of player: 1\n",
      "Position of player: Goal Keeper\n"
     ]
    }
   ],
   "source": [
    "#6\n",
    "class Player:\n",
    "    pass\n",
    "player1 = Player()\n",
    "player1.name = \"Ronaldo\"\n",
    "player1.jersy_number = 9\n",
    "player1.position = \"Striker\"\n",
    "print(\"Name of the Player:\", player1.name)\n",
    "print(\"Jersey Number of player:\", player1.jersy_number)\n",
    "print(\"Position of player:\", player1.position)\n",
    "print('===========================')\n",
    "player2 = Player()\n",
    "player2.name = \"Neuer\"\n",
    "player2.jersy_number = 1\n",
    "player2.position = \"Goal Keeper\"\n",
    "print(\"Name of the player:\", player2.name)\n",
    "print(\"Jersey Number of player:\", player2.jersy_number)\n",
    "print(\"Position of player:\", player2.position)"
   ]
  },
  {
   "cell_type": "code",
   "execution_count": 44,
   "id": "c2dd0c07",
   "metadata": {},
   "outputs": [
    {
     "name": "stdout",
     "output_type": "stream",
     "text": [
      "Name: Bangladesh\n",
      "Continent: Asia\n",
      "Capital: Dhaka\n",
      "Fifa Ranking: 187\n",
      "===================\n",
      "Name: Belgium\n",
      "Continent: Europe\n",
      "Capital: Brussels\n",
      "Fifa Ranking: 1\n"
     ]
    }
   ],
   "source": [
    "#7\n",
    "class Country:\n",
    "        def __init__(self):\n",
    "            self.name=\"Bangladesh\"\n",
    "            self.continent=\"Asia\"\n",
    "            self.capital=\"Dhaka\"\n",
    "            self.fifa_ranking=187\n",
    "country = Country()\n",
    "print('Name:', country.name)\n",
    "print('Continent:',country.continent)\n",
    "print('Capital:',country.capital)\n",
    "print('Fifa Ranking:',country.fifa_ranking)\n",
    "print('===================')\n",
    "country.name = 'Belgium'\n",
    "country.continent = 'Europe'\n",
    "country.capital = 'Brussels'\n",
    "country.fifa_ranking = 1\n",
    "print('Name:',country.name)\n",
    "print('Continent:',country.continent)\n",
    "print('Capital:',country.capital)\n",
    "print('Fifa Ranking:',country.fifa_ranking)"
   ]
  },
  {
   "cell_type": "code",
   "execution_count": 47,
   "id": "b73751a9",
   "metadata": {},
   "outputs": [
    {
     "name": "stdout",
     "output_type": "stream",
     "text": [
      "Name: Tanjiro\n",
      "Fighting Style: Water Breathing\n",
      "Knows 10 technique(s) and has killed 10 demon(s)\n",
      "===================\n",
      "Name: Zenitsu\n",
      "Fighting Style: Thunder Breathing\n",
      "Knows 1 technique(s) and has killed 4 demon(s)\n",
      "===================\n",
      "Name: Inosuke\n",
      "Fighting Style: Beast Breathing\n",
      "Knows 5 technique(s) and has killed 7 demon(s)\n",
      "===================\n",
      "Tanjiro, Zenitsu, Inosuke knows total 16 techniques\n",
      "They have killed total 21 demons\n"
     ]
    }
   ],
   "source": [
    "#8\n",
    "class DemonSlayer:\n",
    "    def __init__(self,name,style,number_of_technique,kill):\n",
    "        self.name=name\n",
    "        self.style=style\n",
    "        self.number_of_technique=number_of_technique\n",
    "        self.kill=kill\n",
    "tanjiro = DemonSlayer(\"Tanjiro\", \"Water Breathing\", 10, 10)\n",
    "print('Name:',tanjiro.name)\n",
    "print('Fighting Style:',tanjiro.style)\n",
    "print(f'Knows {tanjiro.number_of_technique} technique(s) and has killed {tanjiro.kill} demon(s)')\n",
    "print('===================')\n",
    "zenitsu = DemonSlayer(\"Zenitsu\", \"Thunder Breathing\", 1, 4)\n",
    "print('Name:',zenitsu.name)\n",
    "print('Fighting Style:',zenitsu.style)\n",
    "print(f'Knows {zenitsu.number_of_technique} technique(s) and has killed {zenitsu.kill} demon(s)')\n",
    "print('===================')\n",
    "inosuke = DemonSlayer(\"Inosuke\", \"Beast Breathing\", 5, 7)\n",
    "print('Name:',inosuke.name)\n",
    "print('Fighting Style:',inosuke.style)\n",
    "print(f'Knows {inosuke.number_of_technique} technique(s) and has killed {inosuke.kill} demon(s)')\n",
    "print('===================')\n",
    "print(f'{tanjiro.name}, {zenitsu.name}, {inosuke.name} knows total {tanjiro.number_of_technique + zenitsu.number_of_technique + inosuke.number_of_technique} techniques')\n",
    "print(f'They have killed total {tanjiro.kill + zenitsu.kill + inosuke.kill} demons')"
   ]
  },
  {
   "cell_type": "code",
   "execution_count": 2,
   "id": "dd5d245a",
   "metadata": {},
   "outputs": [
    {
     "name": "stdout",
     "output_type": "stream",
     "text": [
      "Box 1\n",
      "Creating a Box!\n",
      "Volume of the box is 1000 cubic units.\n",
      "=========================\n",
      "Height: 10\n",
      "Width: 10\n",
      "Breadth: 10\n",
      "-------------------------\n",
      "Box 2\n",
      "Creating a Box!\n",
      "Volume of the box is 3000 cubic units.\n",
      "=========================\n",
      "Height: 30\n",
      "Width: 10\n",
      "Breadth: 10\n",
      "Updating Box 2!\n",
      "Height: 300\n",
      "Width: 10\n",
      "Breadth: 10\n",
      "-------------------------\n",
      "Box 3\n",
      "Height: 300\n",
      "Width: 10\n",
      "Breadth: 10\n"
     ]
    }
   ],
   "source": [
    "#9\n",
    "class box:\n",
    "    def __init__(self,array):\n",
    "        print(\"Creating a Box!\")\n",
    "        vol=array[0]*array[1]*array[2]\n",
    "        print(f\"Volume of the box is {vol} cubic units.\")\n",
    "        self.height=array[0]\n",
    "        self.width=array[1]\n",
    "        self.breadth=array[2]\n",
    "print(\"Box 1\")\n",
    "b1 = box([10,10,10])\n",
    "print(\"=========================\")\n",
    "print(\"Height:\", b1.height)\n",
    "print(\"Width:\", b1.width)\n",
    "print(\"Breadth:\", b1.breadth)\n",
    "print(\"-------------------------\")\n",
    "print(\"Box 2\")\n",
    "b2 = box((30,10,10))\n",
    "print(\"=========================\")\n",
    "print(\"Height:\", b2.height)\n",
    "print(\"Width:\", b2.width)\n",
    "print(\"Breadth:\", b2.breadth)\n",
    "b2.height = 300\n",
    "print(\"Updating Box 2!\")\n",
    "print(\"Height:\", b2.height)\n",
    "print(\"Width:\", b2.width)\n",
    "print(\"Breadth:\", b2.breadth)\n",
    "print(\"-------------------------\")\n",
    "print(\"Box 3\")\n",
    "b3 = b2\n",
    "print(\"Height:\", b3.height)\n",
    "print(\"Width:\", b3.width)\n",
    "print(\"Breadth:\", b3.breadth)"
   ]
  },
  {
   "cell_type": "code",
   "execution_count": 5,
   "id": "a9f1648f",
   "metadata": {},
   "outputs": [
    {
     "name": "stdout",
     "output_type": "stream",
     "text": [
      "CANCEL Button Specifications:\n",
      "Button name: CANCEL\n",
      "Number of the border characters for the top and the bottom: 28\n",
      "Number of spaces between the left side border and the first character of the button name: 10\n",
      "Number of spaces between the right side border and the last character of the button name: 10\n",
      "Characters representing the borders: x\n",
      "xxxxxxxxxxxxxxxxxxxxxxxxxxxx\n",
      "x          CANCEL          x\n",
      "xxxxxxxxxxxxxxxxxxxxxxxxxxxx\n",
      "=======================================================\n",
      "Notify Button Specifications:\n",
      "Button name: Notify\n",
      "Number of the border characters for the top and the bottom: 14\n",
      "Number of spaces between the left side border and the first character of the button name: 3\n",
      "Number of spaces between the right side border and the last character of the button name: 3\n",
      "Characters representing the borders: !\n",
      "!!!!!!!!!!!!!!\n",
      "!   Notify   !\n",
      "!!!!!!!!!!!!!!\n",
      "=======================================================\n",
      "SAVE PROGRESS Button Specifications:\n",
      "Button name: SAVE PROGRESS\n",
      "Number of the border characters for the top and the bottom: 25\n",
      "Number of spaces between the left side border and the first character of the button name: 5\n",
      "Number of spaces between the right side border and the last character of the button name: 5\n",
      "Characters representing the borders: $\n",
      "$$$$$$$$$$$$$$$$$$$$$$$$$\n",
      "$     SAVE PROGRESS     $\n",
      "$$$$$$$$$$$$$$$$$$$$$$$$$\n"
     ]
    }
   ],
   "source": [
    "#10\n",
    "class buttons:\n",
    "    def __init__(self,word,spaces,border):\n",
    "        char_num=1+spaces+len(word)+spaces+1\n",
    "        print(word,'Button Specifications:')\n",
    "        print('Button name:',word)\n",
    "        print(\"Number of the border characters for the top and the bottom:\",char_num)\n",
    "        print('Number of spaces between the left side border and the first character of the button name:', spaces)\n",
    "        print('Number of spaces between the right side border and the last character of the button name:', spaces)\n",
    "        print('Characters representing the borders:', border)\n",
    "        for line in range(1,4):\n",
    "            if line==1 or line==3:\n",
    "                for i in range(1,char_num+1):\n",
    "                    print(border,end=\"\")\n",
    "                print()\n",
    "            else:\n",
    "                print(border,end=\"\")\n",
    "                for index in range(spaces):\n",
    "                    print(\" \",end=\"\")\n",
    "                print(word,end=\"\")\n",
    "                for index in range(spaces):\n",
    "                    print(\" \",end=\"\")\n",
    "                print(border,end=\"\")\n",
    "                print()\n",
    "            \n",
    "word = \"CANCEL\"\n",
    "spaces = 10\n",
    "border = 'x'\n",
    "b1 = buttons(word, spaces, border)\n",
    "print(\"=======================================================\")\n",
    "b2 = buttons(\"Notify\",3, '!')\n",
    "print(\"=======================================================\")\n",
    "b3 = buttons('SAVE PROGRESS', 5, '$')"
   ]
  }
 ],
 "metadata": {
  "kernelspec": {
   "display_name": "Python 3",
   "language": "python",
   "name": "python3"
  },
  "language_info": {
   "codemirror_mode": {
    "name": "ipython",
    "version": 3
   },
   "file_extension": ".py",
   "mimetype": "text/x-python",
   "name": "python",
   "nbconvert_exporter": "python",
   "pygments_lexer": "ipython3",
   "version": "3.8.8"
  }
 },
 "nbformat": 4,
 "nbformat_minor": 5
}
