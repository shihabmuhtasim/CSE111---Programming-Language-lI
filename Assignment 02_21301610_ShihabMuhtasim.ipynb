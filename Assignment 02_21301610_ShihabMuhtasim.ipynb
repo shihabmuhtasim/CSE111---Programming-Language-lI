{
 "cells": [
  {
   "cell_type": "markdown",
   "id": "133a1068",
   "metadata": {},
   "source": [
    "Name:Shihab Muhtasim\n",
    "\n",
    "ID:21301610\n",
    "\n",
    "Sec:10\n",
    "\n",
    "Assignment 2\n",
    "\n",
    "CSE111"
   ]
  },
  {
   "cell_type": "code",
   "execution_count": 5,
   "id": "b080420f",
   "metadata": {},
   "outputs": [
    {
     "name": "stdout",
     "output_type": "stream",
     "text": [
      "Enter value of nominator: 5\n",
      "Enter value of denominator: 2\n",
      "0.5\n"
     ]
    }
   ],
   "source": [
    "#1\n",
    "def division_remainder(nominator,denominator):\n",
    "    if nominator==0 or denominator==0:\n",
    "        return 0\n",
    "    else:\n",
    "        div=nominator/denominator\n",
    "        frac=nominator//denominator\n",
    "        result= div-frac\n",
    "        return result\n",
    "nominator=int(input(\"Enter value of nominator: \"))  \n",
    "denominator=int(input(\"Enter value of denominator: \"))\n",
    "print(division_remainder(nominator,denominator))"
   ]
  },
  {
   "cell_type": "code",
   "execution_count": 51,
   "id": "322a362c",
   "metadata": {},
   "outputs": [
    {
     "name": "stdout",
     "output_type": "stream",
     "text": [
      "Enter your height: 175\n",
      "Enter your weight: 96\n",
      "Score is 31.3 . You are obese\n"
     ]
    }
   ],
   "source": [
    "#task-2\n",
    "def bma_calculate(height,weight):\n",
    "    height=height/100\n",
    "    result=weight/(height**2)\n",
    "    if result < 18.5:\n",
    "        print(\"Score is\",round(result,1),\".\",\"You are underweight\")\n",
    "    if result>= 18.5 and result<=24.9:\n",
    "        print(\"Score is\",round(result,1),\".\",\"You are Normal\")\n",
    "    if result>=25 and result<=30:\n",
    "        print(\"Score is\",round(result,1),\".\",\"You are overweight\")\n",
    "    if result>30:\n",
    "        print(\"Score is\",round(result,1),\".\",\"You are obese\")\n",
    "height=int(input(\"Enter your height: \"))\n",
    "weight=int(input(\"Enter your weight: \"))\n",
    "bma_calculate(height,weight)"
   ]
  },
  {
   "cell_type": "code",
   "execution_count": 52,
   "id": "c34ec3f8",
   "metadata": {},
   "outputs": [
    {
     "name": "stdout",
     "output_type": "stream",
     "text": [
      "Enter maximum number: 3\n",
      "Enter minimum number: 16\n",
      "Enter divisor: 3\n",
      "45\n"
     ]
    }
   ],
   "source": [
    "#3\n",
    "def calculation(minimum,maximum,divisor):\n",
    "    total=0\n",
    "    for i in range(minimum,maximum):\n",
    "        if i%divisor==0:\n",
    "            total+=i\n",
    "    return total\n",
    "minimum=int(input(\"Enter maximum number: \"))\n",
    "maximum=int(input(\"Enter minimum number: \"))\n",
    "divisor=int(input(\"Enter divisor: \"))\n",
    "print(calculation(minimum,maximum,divisor))"
   ]
  },
  {
   "cell_type": "code",
   "execution_count": 28,
   "id": "3491b10b",
   "metadata": {},
   "outputs": [
    {
     "name": "stdout",
     "output_type": "stream",
     "text": [
      "Enter your order: Beef Burger\n",
      "Enter your address: \n",
      "223.6\n"
     ]
    }
   ],
   "source": [
    "#4\n",
    "def price_calculate(order,place=\"Mohakhali\"):\n",
    "    total=0\n",
    "    delivery_charge=0\n",
    "    bill=0\n",
    "    if order==\"Chicken Cheese Burger\":\n",
    "        bill+=250\n",
    "    elif order==\"Beef Burger\":\n",
    "        bill+=170\n",
    "    elif order==\"Chicken Cheese Burger\":\n",
    "        bill+=250\n",
    "    elif order==\"Naga Drums\":\n",
    "        bill+=200\n",
    "    if place==\"Mohakhali\":\n",
    "        delivery_charge=40\n",
    "    else:\n",
    "        delivery_charge=60\n",
    "    total=bill+delivery_charge+0.08*bill\n",
    "    print(total)\n",
    "order=input(\"Enter your order: \")\n",
    "place=input(\"Enter your address: \")\n",
    "if len(place)==0:\n",
    "    price_calculate(order)\n",
    "else:\n",
    "    price_calculate(order,place)"
   ]
  },
  {
   "cell_type": "code",
   "execution_count": 41,
   "id": "6e69d409",
   "metadata": {},
   "outputs": [
    {
     "name": "stdout",
     "output_type": "stream",
     "text": [
      "enter your mail:alice@kaaj.com\n",
      "Enter new domain:sheba.xyz\n",
      "Enter old domain:kaaj.com\n",
      "Changed: alice@sheba.xyz\n"
     ]
    }
   ],
   "source": [
    "#5\n",
    "def replace_domain(email,new_domain,old_domain=\"kaaj.com\"):\n",
    "    string=\"\"\n",
    "    check_list=email.split(\"@\")\n",
    "    if check_list[1] == new_domain:\n",
    "        string+=\"Unchanged: \"+email\n",
    "    else:\n",
    "        string+=\"Changed: \"+check_list[0]+\"@\"+new_domain\n",
    "    print(string)\n",
    "email=input(\"enter your mail:\")\n",
    "new_domain=input(\"Enter new domain:\")\n",
    "old_domain=input(\"Enter old domain:\")\n",
    "replace_domain(email,new_domain,old_domain)"
   ]
  },
  {
   "cell_type": "code",
   "execution_count": 20,
   "id": "43569f05",
   "metadata": {},
   "outputs": [
    {
     "name": "stdout",
     "output_type": "stream",
     "text": [
      "Enter your name: XYZ\n",
      "No vowels in the name\n"
     ]
    }
   ],
   "source": [
    "#6\n",
    "def vowel_check(name):\n",
    "    count=0\n",
    "    vowel_found=\"\"\n",
    "    for i in name:\n",
    "        if i.upper()==\"A\" or i.upper()==\"E\" or i.upper()==\"I\"or i.upper()==\"O\"or i.upper()==\"U\":\n",
    "            vowel_found+=i+\", \"\n",
    "            count+=1\n",
    "    if len(vowel_found)==0:\n",
    "        print(\"No vowels in the name\")\n",
    "    else:\n",
    "        new=vowel_found[:len(vowel_found)-2:]\n",
    "        print(\"Vowels:\",new+\". Total number of vowels:\",count)\n",
    "name=input(\"Enter your name: \")\n",
    "vowel_check(name)"
   ]
  },
  {
   "cell_type": "code",
   "execution_count": 27,
   "id": "32834d95",
   "metadata": {},
   "outputs": [
    {
     "name": "stdout",
     "output_type": "stream",
     "text": [
      "Enter a string: Nurses run\n",
      "Palindrome\n"
     ]
    }
   ],
   "source": [
    "#7\n",
    "def palindrome_check(string):\n",
    "    store = \"\"\n",
    "    if \" \" in string:\n",
    "        for i in string:\n",
    "            if i!=\" \":\n",
    "                store+=i\n",
    "            else:\n",
    "                pass\n",
    "    else:\n",
    "        store += string\n",
    "    store_low=store.lower()\n",
    "    if len(store_low)>0:\n",
    "        if store_low==store_low[::-1]:\n",
    "            print(\"Palindrome\")\n",
    "        else:\n",
    "            print(\"Not a palindrome\")  \n",
    "    else:\n",
    "        print(\"Not a palindrome\")\n",
    "\n",
    "string = input(\"Enter a string: \")\n",
    "palindrome_check(string)"
   ]
  },
  {
   "cell_type": "code",
   "execution_count": 21,
   "id": "b57d635c",
   "metadata": {},
   "outputs": [
    {
     "name": "stdout",
     "output_type": "stream",
     "text": [
      "Enter number of days: 4320\n",
      "11 years, 10 months, 5 days"
     ]
    }
   ],
   "source": [
    "#8\n",
    "def day_calculate(day):\n",
    "    year=day//365\n",
    "    left=day%365\n",
    "    month=left//30\n",
    "    day=left%30\n",
    "    print(year,end=\" years, \")\n",
    "    print(month,end=\" months, \")\n",
    "    print(day,end=\" days\")\n",
    "day=int(input(\"Enter number of days: \"))\n",
    "day_calculate(day)"
   ]
  },
  {
   "cell_type": "code",
   "execution_count": 31,
   "id": "737e8f62",
   "metadata": {},
   "outputs": [
    {
     "name": "stdout",
     "output_type": "stream",
     "text": [
      "Enter your paragraph: my favourite animal is a dog. a dog has sharp teeth so that it can eat flesh very easily. do you know my pet dog’s name? i love my pet very much.\n",
      "Output:  My favourite animal is a dog. A dog has sharp teeth so that it can eat flesh very easily. Do you know my pet dog’s name? I love my pet very much.\n"
     ]
    }
   ],
   "source": [
    "#9\n",
    "def capitalize(string):\n",
    "    final=\"\"\n",
    "    res=\"\"\n",
    "    if \"a\"<=string[0]<=\"z\":\n",
    "        final+=string[0].upper()\n",
    "    else:\n",
    "        final+=string[0]\n",
    "    for index in range(1,len(string)):\n",
    "        if \"a\"<=string[index]<=\"z\" and string[index-1]==\" \" and (string[index-2]==\"!\" or string[index-2]==\".\" or string[index-2]==\"?\") :\n",
    "            final+=string[index].upper()\n",
    "        elif string[index]==\"i\" and string[index+1]==\" \" and string[index-1]==\" \":\n",
    "            final+=string[index].upper()\n",
    "        else:\n",
    "            final+=string[index]       \n",
    "    return final\n",
    "string=input(\"Enter your paragraph: \")\n",
    "print(\"Output: \",capitalize(string))"
   ]
  }
 ],
 "metadata": {
  "kernelspec": {
   "display_name": "Python 3",
   "language": "python",
   "name": "python3"
  },
  "language_info": {
   "codemirror_mode": {
    "name": "ipython",
    "version": 3
   },
   "file_extension": ".py",
   "mimetype": "text/x-python",
   "name": "python",
   "nbconvert_exporter": "python",
   "pygments_lexer": "ipython3",
   "version": "3.8.8"
  }
 },
 "nbformat": 4,
 "nbformat_minor": 5
}
