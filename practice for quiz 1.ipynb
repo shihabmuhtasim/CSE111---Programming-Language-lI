{
 "cells": [
  {
   "cell_type": "code",
   "execution_count": 5,
   "id": "bb91a977",
   "metadata": {},
   "outputs": [
    {
     "name": "stdout",
     "output_type": "stream",
     "text": [
      "Zubayer Ahmed\n",
      "Sadia Nur Amin\n",
      "Mehedi Hasan Shawon\n",
      "Nafis\n",
      "{'Fname': ['Zubayer', 'Sadia', 'Mehedi', 'Nafis'], 'Mname': ['Nur', 'Hasan'], 'Lname': ['Ahmed', 'Amin', 'Shawon']}\n"
     ]
    }
   ],
   "source": [
    "n=4\n",
    "dic={\"Fname\":[],\"Mname\":[],\"Lname\":[]}\n",
    "for i in range(n):\n",
    "    add_list=[]\n",
    "    name=input()\n",
    "    temp=name.split(\" \")\n",
    "    if len(temp)==3:\n",
    "        dic[\"Fname\"].append(temp[0])\n",
    "        dic[\"Mname\"].append(temp[1])\n",
    "        dic[\"Lname\"].append(temp[2])\n",
    "    elif len(temp)==2:\n",
    "        dic[\"Fname\"].append(temp[0])\n",
    "        dic[\"Lname\"].append(temp[1])\n",
    "    else:\n",
    "        dic[\"Fname\"].append(temp[0])\n",
    "print(dic)"
   ]
  },
  {
   "cell_type": "code",
   "execution_count": 41,
   "id": "c5fc850f",
   "metadata": {},
   "outputs": [
    {
     "name": "stdout",
     "output_type": "stream",
     "text": [
      "ATTC 1\n",
      "TTCG 1\n",
      "TCGA 2\n",
      "CGAT 2\n",
      "GATC 2\n",
      "ATCG 1\n",
      "No\n"
     ]
    }
   ],
   "source": [
    "dna='ATTCGATCGATC'\n",
    "num=4\n",
    "count=0\n",
    "list_1=[]\n",
    "for i in range(len(dna)):\n",
    "    temp=\"\"\n",
    "    for j in range(count,num):\n",
    "        temp+=dna[j]\n",
    "    list_1.append(temp)\n",
    "    if num<len(dna): # indexing and length diffrence ase\n",
    "        count+=1\n",
    "        num+=1\n",
    "    else:\n",
    "        break\n",
    "compare=[]\n",
    "for i in list_1:\n",
    "    if i not in compare:\n",
    "        compare.append(i)\n",
    "new_dna=[]\n",
    "new_num=[]\n",
    "for i in compare:\n",
    "    count=0\n",
    "    for j in list_1:\n",
    "        if i==j:\n",
    "            count+=1\n",
    "    new_dna.append(i)\n",
    "    new_num.append(count)\n",
    "    print(i,count)\n",
    "flag=False\n",
    "for index in range(len(new_dna)):\n",
    "    \n",
    "    x=new_num.count(new_num[index])\n",
    "    if x==1:\n",
    "        flag=True\n",
    "        break\n",
    "    else:\n",
    "        flag=False\n",
    "if flag==True:\n",
    "    print('Yes',new_dna[index])\n",
    "else:\n",
    "    print(\"No\")"
   ]
  },
  {
   "cell_type": "code",
   "execution_count": 53,
   "id": "0c6f2597",
   "metadata": {},
   "outputs": [
    {
     "name": "stdout",
     "output_type": "stream",
     "text": [
      "NaVi flamie 23 13 3 2 2 0\n",
      "Fnatic Xizt 15 20 3 2 0 2\n",
      "Fnatic KRIMZ 12 23 9 2 2 1\n",
      "Navi electronic 24 13 5 2 2 0\n",
      "Navi Zeus 14 22 12 2 2 0\n",
      "Navi Edward 20 18 8 1 1 1\n",
      "Fnatic JW 13 24 5 3 0 0\n",
      "Navi s1mple 26 13 6 3 2 1\n",
      "Fnatic twist 25 20 4 2 3 2\n",
      "Fnatic Brollan 14 20 3 2 1 0\n",
      "Third electronic\n",
      "First s1mple\n",
      "Second twist\n",
      "{'flamie': 59, 'Xizt': 35, 'KRIMZ': 42, 'electronic': 63, 'Zeus': 50, 'Edward': 52, 'JW': 37, 's1mple': 69, 'twist': 65, 'Brollan': 38}\n"
     ]
    }
   ],
   "source": [
    "name={}\n",
    "score=[]\n",
    "for i in range(10):\n",
    "    gamer=input()\n",
    "    temp=gamer.split(\" \")\n",
    "    hold=int(temp[2])*2+int(temp[4])+int(temp[5])*2+int(temp[6])*3-int(temp[7])\n",
    "    score.append(hold)\n",
    "    name[temp[1]]=hold\n",
    "score.sort()\n",
    "maxi=score[len(score)-1]\n",
    "second=score[len(score)-2]\n",
    "third=score[len(score)-3]\n",
    "for key,val in name.items():\n",
    "    if val==maxi:\n",
    "        print(\"First\",key)\n",
    "    elif val==second:\n",
    "        print(\"Second\",key)\n",
    "    elif val==third:\n",
    "        print(\"Third\",key)\n",
    "print(name)"
   ]
  },
  {
   "cell_type": "code",
   "execution_count": 75,
   "id": "5e873337",
   "metadata": {},
   "outputs": [
    {
     "name": "stdout",
     "output_type": "stream",
     "text": [
      "AB 2\n",
      "BA 2\n",
      "AABB 1\n",
      "BBAA 1\n"
     ]
    }
   ],
   "source": [
    "#4\n",
    "giv=\"AABAABBAA\"\n",
    "li=[]\n",
    "for i in range(len(giv)):\n",
    "    for j in range(i+1,len(giv),2):\n",
    "        temp= giv[i:j+1]\n",
    "        length=len(temp)//2\n",
    "        first=temp[:length]\n",
    "        second=temp[length:]\n",
    "        first_a=first.count(\"A\")\n",
    "        first_b=first.count(\"B\")\n",
    "        second_a=second.count(\"A\")\n",
    "        second_b=second.count(\"B\")\n",
    "        if first_a==len(first):\n",
    "            if second_b==len(second):\n",
    "                    li.append(temp)\n",
    "        elif first_b==len(first):\n",
    "            if second_a==len(second):\n",
    "                    li.append(temp)\n",
    "new=[]\n",
    "for i in li:\n",
    "    if i not in new:\n",
    "        new.append(i)\n",
    "for i in new:\n",
    "    count=0\n",
    "    for j in li:\n",
    "        if i==j:\n",
    "            count+=1\n",
    "    print(i,count)\n"
   ]
  },
  {
   "cell_type": "code",
   "execution_count": 52,
   "id": "ae08a77a",
   "metadata": {},
   "outputs": [
    {
     "name": "stdout",
     "output_type": "stream",
     "text": [
      "AA\n",
      "fh BA\n"
     ]
    }
   ],
   "source": [
    "h=\"AABA\"\n",
    "l=len(h)//2\n",
    "t=h[:l]\n",
    "s=h[l:]\n",
    "print(t)\n",
    "print(\"fh\",s)"
   ]
  },
  {
   "cell_type": "code",
   "execution_count": 57,
   "id": "31d91e45",
   "metadata": {},
   "outputs": [
    {
     "name": "stdout",
     "output_type": "stream",
     "text": [
      "[6, 7, 18]\n",
      "6\n"
     ]
    }
   ],
   "source": [
    "#5\n",
    "string=\" Lorem Ipsum has been the industry's standard dummy text ever since the 1500s, when an unknown printer took a galley of type and scrambled it to make a type specimen book.\"\n",
    "word='red'\n",
    "count_1=0\n",
    "count_2=0\n",
    "count_3=0\n",
    "for i in string:\n",
    "    if i==word[0]:\n",
    "        count_1+=1\n",
    "    elif i==word[1]:\n",
    "        count_2+=1\n",
    "    elif i==word[2]:\n",
    "        count_3+=1\n",
    "new=[]\n",
    "new.append(count_1)\n",
    "new.append(count_2)\n",
    "new.append(count_3)\n",
    "new.sort()\n",
    "print(new[0])"
   ]
  },
  {
   "cell_type": "code",
   "execution_count": 37,
   "id": "5b5c3c12",
   "metadata": {},
   "outputs": [
    {
     "name": "stdout",
     "output_type": "stream",
     "text": [
      "{'Bangladesh': {'Batters': ['Mominul', 'Imrul'], 'Bowlers': ['Mustafiz', 'Taijul']}, 'England': {}, 'Austrailia': {}}\n"
     ]
    }
   ],
   "source": [
    "my_tup = ((\"Mominul\", 1101),(\"Mustafiz\", 1202),(\"Bell\", 2101),(\"Cook\", 2103),(\"Smith\", 3101),\n",
    "            (\"Finch\", 3102),(\"Starc\", 3203), (\"Imrul\", 1103), (\"Taijul\", 1204))\n",
    "final={\"Bangladesh\":{},\"England\":{},\"Austrailia\":{}}\n",
    "for tup in my_tup:\n",
    "    length= len(str(tup[1]))\n",
    "    div_1= 10**(length-1)\n",
    "    div_2= 10**(length-2)\n",
    "    first= tup[1]//div_1\n",
    "    temp=tup[1]//div_2\n",
    "    second= temp%10\n",
    "    if first==1:\n",
    "        if second==1:\n",
    "            if \"Batters\" in final[\"Bangladesh\"]:\n",
    "                final[\"Bangladesh\"][\"Batters\"].append(tup[0])\n",
    "            else:\n",
    "                final[\"Bangladesh\"][\"Batters\"]=[tup[0]]\n",
    "        elif second==2:\n",
    "            if \"Bowlers\" in final[\"Bangladesh\"]:\n",
    "                final[\"Bangladesh\"][\"Bowlers\"].append(tup[0])\n",
    "            else:\n",
    "                final[\"Bangladesh\"][\"Bowlers\"]=[tup[0]] \n",
    "print(final)"
   ]
  },
  {
   "cell_type": "code",
   "execution_count": 109,
   "id": "db20d73e",
   "metadata": {},
   "outputs": [
    {
     "name": "stdout",
     "output_type": "stream",
     "text": [
      "{'Bangladesh': {'Batters': ['Mominul', 'Imrul'], 'Bowlers': ['Mustafiz', 'Taijul']}, 'England': {}, 'Austrailia': {}}\n"
     ]
    }
   ],
   "source": [
    "my_tup = ((\"Mominul\", 1101),(\"Mustafiz\", 1202),(\"Bell\", 2101),(\"Cook\", 2103),(\"Smith\", 3101),\n",
    "            (\"Finch\", 3102),(\"Starc\", 3203), (\"Imrul\", 1103), (\"Taijul\", 1204))\n",
    "final={\"Bangladesh\":{},\"England\":{},\"Austrailia\":{}}\n",
    "hello={}\n",
    "b_flag=False\n",
    "for tup in my_tup:\n",
    "    length= len(str(tup[1]))\n",
    "    div_1= 10**(length-1)\n",
    "    div_2= 10**(length-2)\n",
    "    first= tup[1]//div_1\n",
    "    temp=tup[1]//div_2\n",
    "    second= temp%10\n",
    "    \n",
    "    if first==1:\n",
    "        b_flag=True\n",
    "        if second==1:\n",
    "            if \"Batters\" in hello.keys():\n",
    "                hello[\"Batters\"].append(tup[0])\n",
    "            else:\n",
    "                hello[\"Batters\"]=[tup[0]]\n",
    "        elif second==2:\n",
    "            if \"Bowlers\" not in hello:\n",
    "                hello[\"Bowlers\"]=[tup[0]]\n",
    "            else:\n",
    "                hello[\"Bowlers\"].append(tup[0])\n",
    "                \n",
    "                \n",
    "if b_flag==True:\n",
    "    final[\"Bangladesh\"]=hello\n",
    "\n",
    "\n",
    "            \n",
    "print(final)"
   ]
  },
  {
   "cell_type": "code",
   "execution_count": 88,
   "id": "1bb577f5",
   "metadata": {},
   "outputs": [
    {
     "name": "stdout",
     "output_type": "stream",
     "text": [
      "{'Bangladesh': {'Batters': ['Mominul', 'Imrul'], 'Bowlers': ['Mustafiz', 'Taijul']}, 'England': {'Batters': ['Bell', 'Cook']}, 'Austrilia': {'Batters': ['Smith', 'Finch'], 'Bowlers': ['Starc']}}\n"
     ]
    }
   ],
   "source": [
    "#6\n",
    "my_tup = ((\"Mominul\", 1101),(\"Mustafiz\", 1202),(\"Bell\", 2101),(\"Cook\", 2103),(\"Smith\", 3101),\n",
    "            (\"Finch\", 3102),(\"Starc\", 3203), (\"Imrul\", 1103), (\"Taijul\", 1204))\n",
    "final={}\n",
    "temp_bd={}\n",
    "temp_eng={}\n",
    "temp_aus={}\n",
    "for tup in my_tup:\n",
    "    length= len(str(tup[1]))\n",
    "    div_1= 10**(length-1)\n",
    "    div_2= 10**(length-2)\n",
    "    first= tup[1]//div_1\n",
    "    temp=tup[1]//div_2\n",
    "    second= temp%10\n",
    "    if first==1:\n",
    "            if second==1:\n",
    "                if \"Batters\" in temp_bd:\n",
    "                    temp_bd[\"Batters\"].append(tup[0])\n",
    "                else:\n",
    "                    temp_bd[\"Batters\"]=[tup[0]]\n",
    "            elif second==2:\n",
    "                if \"Bowlers\" in temp_bd:\n",
    "                    temp_bd[\"Bowlers\"].append(tup[0])\n",
    "                else:\n",
    "                    temp_bd[\"Bowlers\"]=[tup[0]]\n",
    "    elif  first==2:\n",
    "        if second==1:\n",
    "                if \"Batters\" in temp_eng:\n",
    "                    temp_eng[\"Batters\"].append(tup[0])\n",
    "                else:\n",
    "                    temp_eng[\"Batters\"]=[tup[0]]\n",
    "        elif second==2:\n",
    "                if \"Bowlers\" in temp_eng:\n",
    "                    temp_eng[\"Bowlers\"].append(tup[0])\n",
    "                else:\n",
    "                    temp_eng[\"Bowlers\"]=[tup[0]]\n",
    "    elif  first==3:\n",
    "            if second==1:\n",
    "                if \"Batters\" in temp_aus:\n",
    "                    temp_aus[\"Batters\"].append(tup[0])\n",
    "                else:\n",
    "                    temp_aus[\"Batters\"]=[tup[0]]\n",
    "            elif second==2:\n",
    "                if \"Bowlers\" in temp_eng:\n",
    "                    temp_aus[\"Bowlers\"].append(tup[0])\n",
    "                else:\n",
    "                    temp_aus[\"Bowlers\"]=[tup[0]]\n",
    "final[\"Bangladesh\"]=temp_bd\n",
    "final[\"England\"]=temp_eng\n",
    "final[\"Austrilia\"]=temp_aus\n",
    "print(final)"
   ]
  },
  {
   "cell_type": "code",
   "execution_count": 82,
   "id": "fafd784e",
   "metadata": {},
   "outputs": [
    {
     "name": "stdout",
     "output_type": "stream",
     "text": [
      "{'CSE': {'under': ['CSE110', 'CSE111'], 'master': ['CSE520', 'CSE650']}, 'MAT': {'under': [], 'master': ['MAT620', 'MAT510']}, 'EEE': {'under': ['EEE361'], 'master': []}}\n"
     ]
    }
   ],
   "source": [
    "#7\n",
    "giv=['CSE110','CSE111','MAT620','CSE520','EEE361','CSE650','MAT510']\n",
    "new={}\n",
    "for elem in giv:\n",
    "    temp=len(elem)-3\n",
    "    name=elem[:temp]\n",
    "    code=elem[temp:]\n",
    "    if name not in new:\n",
    "        new[name]={\"under\":[],\"master\":[]}\n",
    "        if code<str(499):\n",
    "            new[name][\"under\"].append(elem)\n",
    "        else:\n",
    "            new[name][\"master\"].append(elem)\n",
    "    else:\n",
    "        if code<str(499):\n",
    "            new[name][\"under\"].append(elem)\n",
    "        else:\n",
    "            new[name][\"master\"].append(elem)\n",
    "print(new)"
   ]
  },
  {
   "cell_type": "code",
   "execution_count": 101,
   "id": "d8f3f8cb",
   "metadata": {},
   "outputs": [
    {
     "name": "stdout",
     "output_type": "stream",
     "text": [
      "{'192.0.0.0': ['192.168.30.10', '192.152.55.10', '192.169.100.45'], '168.0.0.0': ['168.192.100.30', '168.200.43.90'], '240.0.0.0': ['240.169.10.10']}\n"
     ]
    }
   ],
   "source": [
    "giv=\"1 192.168.30.10,168.192.100.30,192.152.55.10,240.169.10.10,168.200.43.90,192.169.100.45\".split(\" \")\n",
    "net=giv[0]\n",
    "ip_list = giv[1].split(\",\")\n",
    "new={}\n",
    "if net == \"1\":\n",
    "    for ip in ip_list:\n",
    "        temp = ip.split(\".\")\n",
    "        first = temp[0]\n",
    "        change = temp\n",
    "        modified = \"\"\n",
    "        for i in range(len(change)):\n",
    "            if i!= 0:\n",
    "                change[i]= \"0\"\n",
    "                modified+= (change[i]+\".\")\n",
    "            else:\n",
    "                modified+= (change[i]+\".\")\n",
    "        final_modi=modified.rstrip(\".\")\n",
    "        if final_modi not in new:\n",
    "            new[final_modi]= [ip]\n",
    "        else:\n",
    "            new[final_modi].append(ip)\n",
    "print(new)    "
   ]
  }
 ],
 "metadata": {
  "kernelspec": {
   "display_name": "Python 3",
   "language": "python",
   "name": "python3"
  },
  "language_info": {
   "codemirror_mode": {
    "name": "ipython",
    "version": 3
   },
   "file_extension": ".py",
   "mimetype": "text/x-python",
   "name": "python",
   "nbconvert_exporter": "python",
   "pygments_lexer": "ipython3",
   "version": "3.8.8"
  }
 },
 "nbformat": 4,
 "nbformat_minor": 5
}
